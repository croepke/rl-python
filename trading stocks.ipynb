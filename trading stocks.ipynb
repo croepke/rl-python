{
 "cells": [
  {
   "cell_type": "code",
   "execution_count": 1,
   "metadata": {},
   "outputs": [],
   "source": [
    "import pandas as pd\n",
    "import matplotlib.pyplot as plt\n",
    "import numpy as np\n",
    "import random\n",
    "from collections import defaultdict"
   ]
  },
  {
   "cell_type": "code",
   "execution_count": null,
   "metadata": {},
   "outputs": [],
   "source": [
    "class QTrader(object):\n",
    "    def __init__(self):\n",
    "        self.stock_data = pd.merge(\n",
    "                pd.read_csv('./^GSPC.csv', index_col='Date'), \n",
    "                pd.read_csv('./tbills.csv', index_col='Date'), right_index=True, left_index=True\n",
    "            ).sort_index()\n",
    "        \n",
    "        self.returns = pd.DataFrame({\n",
    "            'stock': self.stock_data['Adj Close'].rolling(window=2).apply(lambda x: x[1] / x[0] -1)\n",
    "            'tbills': (self.stock_data['tbill_rate'] / 100 + 1) ** (1/52) - 1.\n",
    "        })\n",
    "    \n",
    "    def graph_portfolio(self):\n",
    "        # buy_and_hold\n",
    "        # buy_tbills\n",
    "        # random\n",
    "        # q-learning-holdings"
   ]
  }
 ],
 "metadata": {
  "kernelspec": {
   "display_name": "Python [conda env:aind]",
   "language": "python",
   "name": "conda-env-aind-py"
  },
  "language_info": {
   "codemirror_mode": {
    "name": "ipython",
    "version": 3
   },
   "file_extension": ".py",
   "mimetype": "text/x-python",
   "name": "python",
   "nbconvert_exporter": "python",
   "pygments_lexer": "ipython3",
   "version": "3.5.4"
  }
 },
 "nbformat": 4,
 "nbformat_minor": 2
}
