{
 "cells": [
  {
   "cell_type": "code",
   "execution_count": 3,
   "metadata": {},
   "outputs": [],
   "source": [
    "MAZE = {\n",
    "        3: {\n",
    "            8: {\n",
    "                99: 'End'\n",
    "                }\n",
    "            },\n",
    "        12: {\n",
    "            6: {\n",
    "                5: 'End'\n",
    "                }\n",
    "            }\n",
    "        }"
   ]
  },
  {
   "cell_type": "markdown",
   "metadata": {},
   "source": [
    "## Greedy policy"
   ]
  },
  {
   "cell_type": "code",
   "execution_count": 5,
   "metadata": {},
   "outputs": [],
   "source": [
    "def policy(current_state, total_reward = 0):\n",
    "    if(not isinstance(current_state, dict)):\n",
    "        print(\"Finished the game with total reward of {}\".format(total_reward))\n",
    "    else:\n",
    "        new_state = max(current_state.keys())\n",
    "        print(\"Taking action to get to state {}\".format(new_state))\n",
    "        policy(current_state[new_state], total_reward + new_state)"
   ]
  },
  {
   "cell_type": "code",
   "execution_count": 6,
   "metadata": {},
   "outputs": [
    {
     "name": "stdout",
     "output_type": "stream",
     "text": [
      "Taking action to get to state 12\n",
      "Taking action to get to state 6\n",
      "Taking action to get to state 5\n",
      "Finished the game with total reward of 23\n"
     ]
    }
   ],
   "source": [
    "policy(MAZE)"
   ]
  },
  {
   "cell_type": "markdown",
   "metadata": {},
   "source": [
    "## Backwards induction"
   ]
  },
  {
   "cell_type": "code",
   "execution_count": 7,
   "metadata": {},
   "outputs": [],
   "source": [
    "from backwards import *"
   ]
  },
  {
   "cell_type": "code",
   "execution_count": 8,
   "metadata": {},
   "outputs": [],
   "source": [
    "def policy(current_state):\n",
    "    upside_down_maze = create_new_maze(current_state)\n",
    "    \n",
    "    states = []\n",
    "    while(isinstance(upside_down_maze, dict)):\n",
    "        new_state = max(upside_down_maze.keys())\n",
    "        states = [new_state] + states\n",
    "        upside_down_maze = upside_down_maze[new_state]\n",
    "    \n",
    "    states = [upside_down_maze] + states\n",
    "    \n",
    "    total_reward = 0\n",
    "    for s in states:\n",
    "        total_reward += s\n",
    "        print(\"Take action to get to state {}\".format(s))\n",
    "        \n",
    "    print(\"Finished the game with total reward of {}\".format(total_reward))"
   ]
  },
  {
   "cell_type": "code",
   "execution_count": 9,
   "metadata": {},
   "outputs": [
    {
     "name": "stdout",
     "output_type": "stream",
     "text": [
      "Take action to get to state 3\n",
      "Take action to get to state 8\n",
      "Take action to get to state 99\n",
      "Finished the game with total reward of 110\n"
     ]
    }
   ],
   "source": [
    "policy(MAZE)"
   ]
  },
  {
   "cell_type": "code",
   "execution_count": 10,
   "metadata": {},
   "outputs": [
    {
     "ename": "NameError",
     "evalue": "name 'MAZE2' is not defined",
     "output_type": "error",
     "traceback": [
      "\u001b[0;31m---------------------------------------------------------------------------\u001b[0m",
      "\u001b[0;31mNameError\u001b[0m                                 Traceback (most recent call last)",
      "\u001b[0;32m<ipython-input-10-244519891d74>\u001b[0m in \u001b[0;36m<module>\u001b[0;34m()\u001b[0m\n\u001b[0;32m----> 1\u001b[0;31m \u001b[0mMAZE2\u001b[0m\u001b[0;34m\u001b[0m\u001b[0m\n\u001b[0m",
      "\u001b[0;31mNameError\u001b[0m: name 'MAZE2' is not defined"
     ]
    }
   ],
   "source": [
    "MAZE2"
   ]
  },
  {
   "cell_type": "markdown",
   "metadata": {},
   "source": [
    "## Bellman Equations"
   ]
  },
  {
   "cell_type": "code",
   "execution_count": 13,
   "metadata": {},
   "outputs": [],
   "source": [
    "from bellman import *"
   ]
  },
  {
   "cell_type": "code",
   "execution_count": 14,
   "metadata": {},
   "outputs": [
    {
     "name": "stdout",
     "output_type": "stream",
     "text": [
      "Taking action to get to state 3 (95.43)\n",
      "Taking action to get to state 100 (102.7)\n",
      "Taking action to get to state 3 (3.0)\n",
      "Finished the game with a total reward of 106\n"
     ]
    }
   ],
   "source": [
    "policy(MAZE2)"
   ]
  },
  {
   "cell_type": "code",
   "execution_count": null,
   "metadata": {},
   "outputs": [],
   "source": []
  }
 ],
 "metadata": {
  "kernelspec": {
   "display_name": "Python [conda env:aind]",
   "language": "python",
   "name": "conda-env-aind-py"
  },
  "language_info": {
   "codemirror_mode": {
    "name": "ipython",
    "version": 3
   },
   "file_extension": ".py",
   "mimetype": "text/x-python",
   "name": "python",
   "nbconvert_exporter": "python",
   "pygments_lexer": "ipython3",
   "version": "3.5.4"
  }
 },
 "nbformat": 4,
 "nbformat_minor": 2
}
