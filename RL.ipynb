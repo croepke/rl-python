{
 "cells": [
  {
   "cell_type": "code",
   "execution_count": 1,
   "metadata": {},
   "outputs": [],
   "source": [
    "MAZE = {\n",
    "        3: {\n",
    "            8: {\n",
    "                99: 'End'\n",
    "                }\n",
    "            },\n",
    "        12: {\n",
    "            6: {\n",
    "                5: 'End'\n",
    "                }\n",
    "            }\n",
    "        }"
   ]
  },
  {
   "cell_type": "markdown",
   "metadata": {},
   "source": [
    "## Greedy policy"
   ]
  },
  {
   "cell_type": "code",
   "execution_count": 5,
   "metadata": {},
   "outputs": [],
   "source": [
    "def policy(current_state, total_reward = 0):\n",
    "    if(not isinstance(current_state, dict)):\n",
    "        print(\"Finished the game with total reward of {}\".format(total_reward))\n",
    "    else:\n",
    "        new_state = max(current_state.keys())\n",
    "        print(\"Taking action to get to state {}\".format(new_state))\n",
    "        policy(current_state[new_state], total_reward + new_state)"
   ]
  },
  {
   "cell_type": "code",
   "execution_count": 6,
   "metadata": {},
   "outputs": [
    {
     "name": "stdout",
     "output_type": "stream",
     "text": [
      "Taking action to get to state 12\n",
      "Taking action to get to state 6\n",
      "Taking action to get to state 5\n",
      "Finished the game with total reward of 23\n"
     ]
    }
   ],
   "source": [
    "policy(MAZE)"
   ]
  },
  {
   "cell_type": "code",
   "execution_count": 1,
   "metadata": {},
   "outputs": [],
   "source": [
    "import backwards"
   ]
  },
  {
   "cell_type": "code",
   "execution_count": 16,
   "metadata": {},
   "outputs": [
    {
     "ename": "AttributeError",
     "evalue": "module 'backwards' has no attribute 'flat_map'",
     "output_type": "error",
     "traceback": [
      "\u001b[0;31m---------------------------------------------------------------------------\u001b[0m",
      "\u001b[0;31mAttributeError\u001b[0m                            Traceback (most recent call last)",
      "\u001b[0;32m<ipython-input-16-bbd1ce1a34d1>\u001b[0m in \u001b[0;36m<module>\u001b[0;34m()\u001b[0m\n\u001b[0;32m----> 1\u001b[0;31m \u001b[0mbackwards\u001b[0m\u001b[0;34m.\u001b[0m\u001b[0mflat_map\u001b[0m\u001b[0;34m\u001b[0m\u001b[0m\n\u001b[0m",
      "\u001b[0;31mAttributeError\u001b[0m: module 'backwards' has no attribute 'flat_map'"
     ]
    }
   ],
   "source": [
    "def policy(current_state):\n",
    "    upside_down_maze = create_new_maze(current_state)\n",
    "    \n",
    "    states = []\n",
    "    while(isinstance(upside_down_maze, dict)):\n",
    "        new_state = max(upside_down_maze.keys())\n",
    "        states = [new_state] + states\n",
    "        "
   ]
  },
  {
   "cell_type": "code",
   "execution_count": null,
   "metadata": {},
   "outputs": [],
   "source": []
  }
 ],
 "metadata": {
  "kernelspec": {
   "display_name": "Python [conda env:aind]",
   "language": "python",
   "name": "conda-env-aind-py"
  },
  "language_info": {
   "codemirror_mode": {
    "name": "ipython",
    "version": 3
   },
   "file_extension": ".py",
   "mimetype": "text/x-python",
   "name": "python",
   "nbconvert_exporter": "python",
   "pygments_lexer": "ipython3",
   "version": "3.5.4"
  }
 },
 "nbformat": 4,
 "nbformat_minor": 2
}
